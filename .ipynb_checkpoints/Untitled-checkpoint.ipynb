{
 "cells": [
  {
   "cell_type": "code",
   "execution_count": 1,
   "metadata": {},
   "outputs": [],
   "source": [
    "#Importing required libraries\n",
    "#Data preprocessing\n",
    "import pandas as pd\n",
    "import numpy as np\n",
    "\n",
    "#Data Encoding\n",
    "from sklearn.preprocessing import LabelEncoder\n",
    "from sklearn.preprocessing import OrdinalEncoder\n",
    "\n",
    "#Ignore warnings\n",
    "import warnings\n",
    "warnings.filterwarnings('ignore')\n",
    "\n",
    "#train test split\n",
    "from sklearn.model_selection import train_test_split\n",
    "\n",
    "#importing classification Models\n",
    "from sklearn.linear_model import LogisticRegression\n",
    "from sklearn.ensemble import RandomForestClassifier\n",
    "from sklearn.tree import DecisionTreeClassifier\n",
    "from sklearn.neighbors import KNeighborsClassifier\n",
    "\n",
    "#Importing metrics\n",
    "from sklearn.metrics import accuracy_score\n",
    "from sklearn.metrics import confusion_matrix, classification_report"
   ]
  },
  {
   "cell_type": "code",
   "execution_count": 2,
   "metadata": {},
   "outputs": [
    {
     "data": {
      "text/html": [
       "<div>\n",
       "<style scoped>\n",
       "    .dataframe tbody tr th:only-of-type {\n",
       "        vertical-align: middle;\n",
       "    }\n",
       "\n",
       "    .dataframe tbody tr th {\n",
       "        vertical-align: top;\n",
       "    }\n",
       "\n",
       "    .dataframe thead th {\n",
       "        text-align: right;\n",
       "    }\n",
       "</style>\n",
       "<table border=\"1\" class=\"dataframe\">\n",
       "  <thead>\n",
       "    <tr style=\"text-align: right;\">\n",
       "      <th></th>\n",
       "      <th>id</th>\n",
       "      <th>season</th>\n",
       "      <th>city</th>\n",
       "      <th>date</th>\n",
       "      <th>team1</th>\n",
       "      <th>team2</th>\n",
       "      <th>toss_winner</th>\n",
       "      <th>toss_decision</th>\n",
       "      <th>result</th>\n",
       "      <th>dl_applied</th>\n",
       "      <th>winner</th>\n",
       "      <th>win_by_runs</th>\n",
       "      <th>win_by_wickets</th>\n",
       "      <th>player_of_match</th>\n",
       "      <th>venue</th>\n",
       "      <th>umpire1</th>\n",
       "      <th>umpire2</th>\n",
       "      <th>umpire3</th>\n",
       "    </tr>\n",
       "  </thead>\n",
       "  <tbody>\n",
       "    <tr>\n",
       "      <th>0</th>\n",
       "      <td>1</td>\n",
       "      <td>2017</td>\n",
       "      <td>Hyderabad</td>\n",
       "      <td>2017-04-05</td>\n",
       "      <td>Sunrisers Hyderabad</td>\n",
       "      <td>Royal Challengers Bangalore</td>\n",
       "      <td>Royal Challengers Bangalore</td>\n",
       "      <td>field</td>\n",
       "      <td>normal</td>\n",
       "      <td>0</td>\n",
       "      <td>Sunrisers Hyderabad</td>\n",
       "      <td>35</td>\n",
       "      <td>0</td>\n",
       "      <td>Yuvraj Singh</td>\n",
       "      <td>Rajiv Gandhi International Stadium, Uppal</td>\n",
       "      <td>AY Dandekar</td>\n",
       "      <td>NJ Llong</td>\n",
       "      <td>NaN</td>\n",
       "    </tr>\n",
       "    <tr>\n",
       "      <th>1</th>\n",
       "      <td>2</td>\n",
       "      <td>2017</td>\n",
       "      <td>Pune</td>\n",
       "      <td>2017-04-06</td>\n",
       "      <td>Mumbai Indians</td>\n",
       "      <td>Rising Pune Supergiant</td>\n",
       "      <td>Rising Pune Supergiant</td>\n",
       "      <td>field</td>\n",
       "      <td>normal</td>\n",
       "      <td>0</td>\n",
       "      <td>Rising Pune Supergiant</td>\n",
       "      <td>0</td>\n",
       "      <td>7</td>\n",
       "      <td>SPD Smith</td>\n",
       "      <td>Maharashtra Cricket Association Stadium</td>\n",
       "      <td>A Nand Kishore</td>\n",
       "      <td>S Ravi</td>\n",
       "      <td>NaN</td>\n",
       "    </tr>\n",
       "    <tr>\n",
       "      <th>2</th>\n",
       "      <td>3</td>\n",
       "      <td>2017</td>\n",
       "      <td>Rajkot</td>\n",
       "      <td>2017-04-07</td>\n",
       "      <td>Gujarat Lions</td>\n",
       "      <td>Kolkata Knight Riders</td>\n",
       "      <td>Kolkata Knight Riders</td>\n",
       "      <td>field</td>\n",
       "      <td>normal</td>\n",
       "      <td>0</td>\n",
       "      <td>Kolkata Knight Riders</td>\n",
       "      <td>0</td>\n",
       "      <td>10</td>\n",
       "      <td>CA Lynn</td>\n",
       "      <td>Saurashtra Cricket Association Stadium</td>\n",
       "      <td>Nitin Menon</td>\n",
       "      <td>CK Nandan</td>\n",
       "      <td>NaN</td>\n",
       "    </tr>\n",
       "    <tr>\n",
       "      <th>3</th>\n",
       "      <td>4</td>\n",
       "      <td>2017</td>\n",
       "      <td>Indore</td>\n",
       "      <td>2017-04-08</td>\n",
       "      <td>Rising Pune Supergiant</td>\n",
       "      <td>Kings XI Punjab</td>\n",
       "      <td>Kings XI Punjab</td>\n",
       "      <td>field</td>\n",
       "      <td>normal</td>\n",
       "      <td>0</td>\n",
       "      <td>Kings XI Punjab</td>\n",
       "      <td>0</td>\n",
       "      <td>6</td>\n",
       "      <td>GJ Maxwell</td>\n",
       "      <td>Holkar Cricket Stadium</td>\n",
       "      <td>AK Chaudhary</td>\n",
       "      <td>C Shamshuddin</td>\n",
       "      <td>NaN</td>\n",
       "    </tr>\n",
       "    <tr>\n",
       "      <th>4</th>\n",
       "      <td>5</td>\n",
       "      <td>2017</td>\n",
       "      <td>Bangalore</td>\n",
       "      <td>2017-04-08</td>\n",
       "      <td>Royal Challengers Bangalore</td>\n",
       "      <td>Delhi Daredevils</td>\n",
       "      <td>Royal Challengers Bangalore</td>\n",
       "      <td>bat</td>\n",
       "      <td>normal</td>\n",
       "      <td>0</td>\n",
       "      <td>Royal Challengers Bangalore</td>\n",
       "      <td>15</td>\n",
       "      <td>0</td>\n",
       "      <td>KM Jadhav</td>\n",
       "      <td>M Chinnaswamy Stadium</td>\n",
       "      <td>NaN</td>\n",
       "      <td>NaN</td>\n",
       "      <td>NaN</td>\n",
       "    </tr>\n",
       "  </tbody>\n",
       "</table>\n",
       "</div>"
      ],
      "text/plain": [
       "   id  season       city       date                        team1  \\\n",
       "0   1    2017  Hyderabad 2017-04-05          Sunrisers Hyderabad   \n",
       "1   2    2017       Pune 2017-04-06               Mumbai Indians   \n",
       "2   3    2017     Rajkot 2017-04-07                Gujarat Lions   \n",
       "3   4    2017     Indore 2017-04-08       Rising Pune Supergiant   \n",
       "4   5    2017  Bangalore 2017-04-08  Royal Challengers Bangalore   \n",
       "\n",
       "                         team2                  toss_winner toss_decision  \\\n",
       "0  Royal Challengers Bangalore  Royal Challengers Bangalore         field   \n",
       "1       Rising Pune Supergiant       Rising Pune Supergiant         field   \n",
       "2        Kolkata Knight Riders        Kolkata Knight Riders         field   \n",
       "3              Kings XI Punjab              Kings XI Punjab         field   \n",
       "4             Delhi Daredevils  Royal Challengers Bangalore           bat   \n",
       "\n",
       "   result  dl_applied                       winner  win_by_runs  \\\n",
       "0  normal           0          Sunrisers Hyderabad           35   \n",
       "1  normal           0       Rising Pune Supergiant            0   \n",
       "2  normal           0        Kolkata Knight Riders            0   \n",
       "3  normal           0              Kings XI Punjab            0   \n",
       "4  normal           0  Royal Challengers Bangalore           15   \n",
       "\n",
       "   win_by_wickets player_of_match                                      venue  \\\n",
       "0               0    Yuvraj Singh  Rajiv Gandhi International Stadium, Uppal   \n",
       "1               7       SPD Smith    Maharashtra Cricket Association Stadium   \n",
       "2              10         CA Lynn     Saurashtra Cricket Association Stadium   \n",
       "3               6      GJ Maxwell                     Holkar Cricket Stadium   \n",
       "4               0       KM Jadhav                      M Chinnaswamy Stadium   \n",
       "\n",
       "          umpire1        umpire2  umpire3  \n",
       "0     AY Dandekar       NJ Llong      NaN  \n",
       "1  A Nand Kishore         S Ravi      NaN  \n",
       "2     Nitin Menon      CK Nandan      NaN  \n",
       "3    AK Chaudhary  C Shamshuddin      NaN  \n",
       "4             NaN            NaN      NaN  "
      ]
     },
     "execution_count": 2,
     "metadata": {},
     "output_type": "execute_result"
    }
   ],
   "source": [
    "#Read data\n",
    "df=pd.read_excel('Data/matches.xlsx')\n",
    "df.head()"
   ]
  },
  {
   "cell_type": "code",
   "execution_count": 3,
   "metadata": {},
   "outputs": [],
   "source": [
    "df1=df.copy()"
   ]
  },
  {
   "cell_type": "code",
   "execution_count": 4,
   "metadata": {},
   "outputs": [
    {
     "data": {
      "text/plain": [
       "M Chinnaswamy Stadium                                   66\n",
       "Eden Gardens                                            61\n",
       "Feroz Shah Kotla                                        60\n",
       "Wankhede Stadium                                        57\n",
       "Rajiv Gandhi International Stadium, Uppal               49\n",
       "MA Chidambaram Stadium, Chepauk                         48\n",
       "Punjab Cricket Association Stadium, Mohali              35\n",
       "Sawai Mansingh Stadium                                  33\n",
       "Dr DY Patil Sports Academy                              17\n",
       "Subrata Roy Sahara Stadium                              17\n",
       "Maharashtra Cricket Association Stadium                 15\n",
       "Kingsmead                                               15\n",
       "SuperSport Park                                         12\n",
       "Sardar Patel Stadium, Motera                            12\n",
       "Dr. Y.S. Rajasekhara Reddy ACA-VDCA Cricket Stadium     11\n",
       "Punjab Cricket Association IS Bindra Stadium, Mohali    11\n",
       "Brabourne Stadium                                       11\n",
       "Saurashtra Cricket Association Stadium                  10\n",
       "Himachal Pradesh Cricket Association Stadium             9\n",
       "New Wanderers Stadium                                    8\n",
       "Barabati Stadium                                         7\n",
       "Sheikh Zayed Stadium                                     7\n",
       "St George's Park                                         7\n",
       "JSCA International Stadium Complex                       7\n",
       "Newlands                                                 7\n",
       "Dubai International Cricket Stadium                      7\n",
       "Sharjah Cricket Stadium                                  6\n",
       "Shaheed Veer Narayan Singh International Stadium         6\n",
       "Nehru Stadium                                            5\n",
       "Holkar Cricket Stadium                                   5\n",
       "Green Park                                               4\n",
       "De Beers Diamond Oval                                    3\n",
       "Vidarbha Cricket Association Stadium, Jamtha             3\n",
       "Buffalo Park                                             3\n",
       "OUTsurance Oval                                          2\n",
       "Name: venue, dtype: int64"
      ]
     },
     "execution_count": 4,
     "metadata": {},
     "output_type": "execute_result"
    }
   ],
   "source": [
    "df1.venue.value_counts()"
   ]
  },
  {
   "cell_type": "code",
   "execution_count": 5,
   "metadata": {},
   "outputs": [
    {
     "data": {
      "text/plain": [
       "(636, 18)"
      ]
     },
     "execution_count": 5,
     "metadata": {},
     "output_type": "execute_result"
    }
   ],
   "source": [
    "df.shape"
   ]
  },
  {
   "cell_type": "code",
   "execution_count": 6,
   "metadata": {},
   "outputs": [
    {
     "data": {
      "text/plain": [
       "id                   0\n",
       "season               0\n",
       "city                 7\n",
       "date                 0\n",
       "team1                0\n",
       "team2                0\n",
       "toss_winner          0\n",
       "toss_decision        0\n",
       "result               0\n",
       "dl_applied           0\n",
       "winner               3\n",
       "win_by_runs          0\n",
       "win_by_wickets       0\n",
       "player_of_match      3\n",
       "venue                0\n",
       "umpire1              1\n",
       "umpire2              1\n",
       "umpire3            636\n",
       "dtype: int64"
      ]
     },
     "execution_count": 6,
     "metadata": {},
     "output_type": "execute_result"
    }
   ],
   "source": [
    "df.isnull().sum()"
   ]
  },
  {
   "cell_type": "code",
   "execution_count": 7,
   "metadata": {},
   "outputs": [
    {
     "data": {
      "text/plain": [
       "30"
      ]
     },
     "execution_count": 7,
     "metadata": {},
     "output_type": "execute_result"
    }
   ],
   "source": [
    "len(df.city.value_counts())"
   ]
  },
  {
   "cell_type": "code",
   "execution_count": 8,
   "metadata": {},
   "outputs": [],
   "source": [
    "df.city = df.city.fillna(df.city.mode()[0])"
   ]
  },
  {
   "cell_type": "code",
   "execution_count": 9,
   "metadata": {},
   "outputs": [
    {
     "data": {
      "text/plain": [
       "M Chinnaswamy Stadium                        66\n",
       "Eden Gardens                                 61\n",
       "Feroz Shah Kotla                             60\n",
       "Wankhede Stadium                             57\n",
       "Rajiv Gandhi International Stadium, Uppal    49\n",
       "Name: venue, dtype: int64"
      ]
     },
     "execution_count": 9,
     "metadata": {},
     "output_type": "execute_result"
    }
   ],
   "source": [
    "df1.venue.value_counts().head()"
   ]
  },
  {
   "cell_type": "code",
   "execution_count": 10,
   "metadata": {},
   "outputs": [
    {
     "data": {
      "text/plain": [
       "M Chinnaswamy Stadium                        66\n",
       "Eden Gardens                                 61\n",
       "Feroz Shah Kotla                             60\n",
       "Wankhede Stadium                             57\n",
       "Rajiv Gandhi International Stadium, Uppal    49\n",
       "Name: venue, dtype: int64"
      ]
     },
     "execution_count": 10,
     "metadata": {},
     "output_type": "execute_result"
    }
   ],
   "source": [
    "df.venue.value_counts().head()"
   ]
  },
  {
   "cell_type": "code",
   "execution_count": 11,
   "metadata": {},
   "outputs": [],
   "source": [
    "df.winner=df.winner.fillna(df.winner.mode()[0])"
   ]
  },
  {
   "cell_type": "code",
   "execution_count": 12,
   "metadata": {},
   "outputs": [
    {
     "data": {
      "text/plain": [
       "id                   0\n",
       "season               0\n",
       "city                 0\n",
       "date                 0\n",
       "team1                0\n",
       "team2                0\n",
       "toss_winner          0\n",
       "toss_decision        0\n",
       "result               0\n",
       "dl_applied           0\n",
       "winner               0\n",
       "win_by_runs          0\n",
       "win_by_wickets       0\n",
       "player_of_match      3\n",
       "venue                0\n",
       "umpire1              1\n",
       "umpire2              1\n",
       "umpire3            636\n",
       "dtype: int64"
      ]
     },
     "execution_count": 12,
     "metadata": {},
     "output_type": "execute_result"
    }
   ],
   "source": [
    "df.isnull().sum()"
   ]
  },
  {
   "cell_type": "code",
   "execution_count": 13,
   "metadata": {},
   "outputs": [
    {
     "data": {
      "text/plain": [
       "201"
      ]
     },
     "execution_count": 13,
     "metadata": {},
     "output_type": "execute_result"
    }
   ],
   "source": [
    "len(df.player_of_match.value_counts())"
   ]
  },
  {
   "cell_type": "code",
   "execution_count": 14,
   "metadata": {},
   "outputs": [],
   "source": [
    "df.player_of_match=df.player_of_match.fillna(df.player_of_match.mode()[0])"
   ]
  },
  {
   "cell_type": "code",
   "execution_count": 15,
   "metadata": {},
   "outputs": [
    {
     "data": {
      "text/plain": [
       "44"
      ]
     },
     "execution_count": 15,
     "metadata": {},
     "output_type": "execute_result"
    }
   ],
   "source": [
    "len(df.umpire1.value_counts())"
   ]
  },
  {
   "cell_type": "code",
   "execution_count": 16,
   "metadata": {},
   "outputs": [
    {
     "data": {
      "text/plain": [
       "id                 636\n",
       "season              10\n",
       "city                30\n",
       "date               450\n",
       "team1               14\n",
       "team2               14\n",
       "toss_winner         14\n",
       "toss_decision        2\n",
       "result               3\n",
       "dl_applied           2\n",
       "winner              14\n",
       "win_by_runs         86\n",
       "win_by_wickets      11\n",
       "player_of_match    201\n",
       "venue               35\n",
       "umpire1             44\n",
       "umpire2             45\n",
       "umpire3              0\n",
       "dtype: int64"
      ]
     },
     "execution_count": 16,
     "metadata": {},
     "output_type": "execute_result"
    }
   ],
   "source": [
    "df.nunique()"
   ]
  },
  {
   "cell_type": "code",
   "execution_count": 17,
   "metadata": {},
   "outputs": [],
   "source": [
    "# df.umpire1=df.umpire1.fillna(df.umpire1.mode()[0])\n",
    "# df.umpire2=df.umpire2.fillna(df.umpire2.mode()[0])"
   ]
  },
  {
   "cell_type": "code",
   "execution_count": 18,
   "metadata": {},
   "outputs": [
    {
     "data": {
      "text/plain": [
       "id                   0\n",
       "season               0\n",
       "city                 0\n",
       "date                 0\n",
       "team1                0\n",
       "team2                0\n",
       "toss_winner          0\n",
       "toss_decision        0\n",
       "result               0\n",
       "dl_applied           0\n",
       "winner               0\n",
       "win_by_runs          0\n",
       "win_by_wickets       0\n",
       "player_of_match      0\n",
       "venue                0\n",
       "umpire1              1\n",
       "umpire2              1\n",
       "umpire3            636\n",
       "dtype: int64"
      ]
     },
     "execution_count": 18,
     "metadata": {},
     "output_type": "execute_result"
    }
   ],
   "source": [
    "df.isnull().sum()"
   ]
  },
  {
   "cell_type": "code",
   "execution_count": 19,
   "metadata": {},
   "outputs": [],
   "source": [
    "df.drop(['id','date', 'umpire3', 'umpire1', 'umpire2', 'player_of_match','season'],axis=1, inplace=True)"
   ]
  },
  {
   "cell_type": "code",
   "execution_count": 20,
   "metadata": {},
   "outputs": [
    {
     "data": {
      "text/plain": [
       "city              30\n",
       "team1             14\n",
       "team2             14\n",
       "toss_winner       14\n",
       "toss_decision      2\n",
       "result             3\n",
       "dl_applied         2\n",
       "winner            14\n",
       "win_by_runs       86\n",
       "win_by_wickets    11\n",
       "venue             35\n",
       "dtype: int64"
      ]
     },
     "execution_count": 20,
     "metadata": {},
     "output_type": "execute_result"
    }
   ],
   "source": [
    "df.nunique()"
   ]
  },
  {
   "cell_type": "code",
   "execution_count": 21,
   "metadata": {},
   "outputs": [
    {
     "name": "stdout",
     "output_type": "stream",
     "text": [
      "city\n",
      "team1\n",
      "team2\n",
      "toss_winner\n",
      "toss_decision\n",
      "result\n",
      "winner\n",
      "venue\n"
     ]
    }
   ],
   "source": [
    "from sklearn.preprocessing import LabelEncoder\n",
    "for obj in df.select_dtypes(include='object').columns:\n",
    "    print(obj)\n",
    "    le = LabelEncoder()\n",
    "    df[obj] = le.fit_transform(df[obj])"
   ]
  },
  {
   "cell_type": "code",
   "execution_count": 22,
   "metadata": {},
   "outputs": [
    {
     "data": {
      "text/html": [
       "<div>\n",
       "<style scoped>\n",
       "    .dataframe tbody tr th:only-of-type {\n",
       "        vertical-align: middle;\n",
       "    }\n",
       "\n",
       "    .dataframe tbody tr th {\n",
       "        vertical-align: top;\n",
       "    }\n",
       "\n",
       "    .dataframe thead th {\n",
       "        text-align: right;\n",
       "    }\n",
       "</style>\n",
       "<table border=\"1\" class=\"dataframe\">\n",
       "  <thead>\n",
       "    <tr style=\"text-align: right;\">\n",
       "      <th></th>\n",
       "      <th>city</th>\n",
       "      <th>team1</th>\n",
       "      <th>team2</th>\n",
       "      <th>toss_winner</th>\n",
       "      <th>toss_decision</th>\n",
       "      <th>result</th>\n",
       "      <th>dl_applied</th>\n",
       "      <th>winner</th>\n",
       "      <th>win_by_runs</th>\n",
       "      <th>win_by_wickets</th>\n",
       "      <th>venue</th>\n",
       "    </tr>\n",
       "  </thead>\n",
       "  <tbody>\n",
       "    <tr>\n",
       "      <th>0</th>\n",
       "      <td>13</td>\n",
       "      <td>13</td>\n",
       "      <td>12</td>\n",
       "      <td>12</td>\n",
       "      <td>1</td>\n",
       "      <td>1</td>\n",
       "      <td>0</td>\n",
       "      <td>13</td>\n",
       "      <td>35</td>\n",
       "      <td>0</td>\n",
       "      <td>23</td>\n",
       "    </tr>\n",
       "    <tr>\n",
       "      <th>1</th>\n",
       "      <td>24</td>\n",
       "      <td>7</td>\n",
       "      <td>10</td>\n",
       "      <td>10</td>\n",
       "      <td>1</td>\n",
       "      <td>1</td>\n",
       "      <td>0</td>\n",
       "      <td>10</td>\n",
       "      <td>0</td>\n",
       "      <td>7</td>\n",
       "      <td>16</td>\n",
       "    </tr>\n",
       "    <tr>\n",
       "      <th>2</th>\n",
       "      <td>26</td>\n",
       "      <td>3</td>\n",
       "      <td>6</td>\n",
       "      <td>6</td>\n",
       "      <td>1</td>\n",
       "      <td>1</td>\n",
       "      <td>0</td>\n",
       "      <td>6</td>\n",
       "      <td>0</td>\n",
       "      <td>10</td>\n",
       "      <td>25</td>\n",
       "    </tr>\n",
       "    <tr>\n",
       "      <th>3</th>\n",
       "      <td>14</td>\n",
       "      <td>10</td>\n",
       "      <td>4</td>\n",
       "      <td>4</td>\n",
       "      <td>1</td>\n",
       "      <td>1</td>\n",
       "      <td>0</td>\n",
       "      <td>4</td>\n",
       "      <td>0</td>\n",
       "      <td>6</td>\n",
       "      <td>11</td>\n",
       "    </tr>\n",
       "    <tr>\n",
       "      <th>4</th>\n",
       "      <td>2</td>\n",
       "      <td>12</td>\n",
       "      <td>2</td>\n",
       "      <td>12</td>\n",
       "      <td>0</td>\n",
       "      <td>1</td>\n",
       "      <td>0</td>\n",
       "      <td>12</td>\n",
       "      <td>15</td>\n",
       "      <td>0</td>\n",
       "      <td>14</td>\n",
       "    </tr>\n",
       "  </tbody>\n",
       "</table>\n",
       "</div>"
      ],
      "text/plain": [
       "   city  team1  team2  toss_winner  toss_decision  result  dl_applied  winner  \\\n",
       "0    13     13     12           12              1       1           0      13   \n",
       "1    24      7     10           10              1       1           0      10   \n",
       "2    26      3      6            6              1       1           0       6   \n",
       "3    14     10      4            4              1       1           0       4   \n",
       "4     2     12      2           12              0       1           0      12   \n",
       "\n",
       "   win_by_runs  win_by_wickets  venue  \n",
       "0           35               0     23  \n",
       "1            0               7     16  \n",
       "2            0              10     25  \n",
       "3            0               6     11  \n",
       "4           15               0     14  "
      ]
     },
     "execution_count": 22,
     "metadata": {},
     "output_type": "execute_result"
    }
   ],
   "source": [
    "df.head()"
   ]
  },
  {
   "cell_type": "code",
   "execution_count": 23,
   "metadata": {},
   "outputs": [],
   "source": [
    "# df.groupby('season').size().sort_values(ascending=False)"
   ]
  },
  {
   "cell_type": "code",
   "execution_count": 24,
   "metadata": {},
   "outputs": [],
   "source": [
    "# from sklearn.preprocessing import OrdinalEncoder\n",
    "# OE = OrdinalEncoder()\n",
    "# impute_reshape = np.array(df.season).reshape(-1,1)\n",
    "# OE_encode = OE.fit_transform(impute_reshape)\n",
    "# df.season=np.squeeze(OE_encode)"
   ]
  },
  {
   "cell_type": "code",
   "execution_count": 25,
   "metadata": {},
   "outputs": [],
   "source": [
    "# df.season=df.season.astype(int)"
   ]
  },
  {
   "cell_type": "code",
   "execution_count": 26,
   "metadata": {},
   "outputs": [
    {
     "data": {
      "text/plain": [
       "array([13, 13, 12, 12,  1,  1,  0, 13, 35,  0, 23], dtype=int64)"
      ]
     },
     "execution_count": 26,
     "metadata": {},
     "output_type": "execute_result"
    }
   ],
   "source": [
    "df.iloc[0].values"
   ]
  },
  {
   "cell_type": "code",
   "execution_count": 27,
   "metadata": {},
   "outputs": [],
   "source": [
    "X=df.drop('winner',axis=1)\n",
    "y=df[['winner']]"
   ]
  },
  {
   "cell_type": "code",
   "execution_count": 28,
   "metadata": {},
   "outputs": [],
   "source": [
    "#Train_test_split\n",
    "x_train, x_test, y_train, y_test = train_test_split(X, y, test_size=0.25, random_state=44)"
   ]
  },
  {
   "cell_type": "code",
   "execution_count": 29,
   "metadata": {},
   "outputs": [
    {
     "data": {
      "text/html": [
       "<div>\n",
       "<style scoped>\n",
       "    .dataframe tbody tr th:only-of-type {\n",
       "        vertical-align: middle;\n",
       "    }\n",
       "\n",
       "    .dataframe tbody tr th {\n",
       "        vertical-align: top;\n",
       "    }\n",
       "\n",
       "    .dataframe thead th {\n",
       "        text-align: right;\n",
       "    }\n",
       "</style>\n",
       "<table border=\"1\" class=\"dataframe\">\n",
       "  <thead>\n",
       "    <tr style=\"text-align: right;\">\n",
       "      <th></th>\n",
       "      <th>city</th>\n",
       "      <th>team1</th>\n",
       "      <th>team2</th>\n",
       "      <th>toss_winner</th>\n",
       "      <th>toss_decision</th>\n",
       "      <th>result</th>\n",
       "      <th>dl_applied</th>\n",
       "      <th>win_by_runs</th>\n",
       "      <th>win_by_wickets</th>\n",
       "      <th>venue</th>\n",
       "    </tr>\n",
       "  </thead>\n",
       "  <tbody>\n",
       "    <tr>\n",
       "      <th>0</th>\n",
       "      <td>-1.398745</td>\n",
       "      <td>1.450912</td>\n",
       "      <td>-1.278268</td>\n",
       "      <td>-1.222752</td>\n",
       "      <td>0.810093</td>\n",
       "      <td>-0.032393</td>\n",
       "      <td>-0.146333</td>\n",
       "      <td>-0.451216</td>\n",
       "      <td>-0.967043</td>\n",
       "      <td>-0.366975</td>\n",
       "    </tr>\n",
       "    <tr>\n",
       "      <th>1</th>\n",
       "      <td>0.851512</td>\n",
       "      <td>0.006058</td>\n",
       "      <td>-1.529291</td>\n",
       "      <td>0.020857</td>\n",
       "      <td>-1.234427</td>\n",
       "      <td>-0.032393</td>\n",
       "      <td>6.833740</td>\n",
       "      <td>-0.451216</td>\n",
       "      <td>-0.967043</td>\n",
       "      <td>-1.100265</td>\n",
       "    </tr>\n",
       "    <tr>\n",
       "      <th>2</th>\n",
       "      <td>0.851512</td>\n",
       "      <td>-0.475560</td>\n",
       "      <td>-0.023155</td>\n",
       "      <td>-0.476586</td>\n",
       "      <td>-1.234427</td>\n",
       "      <td>-0.032393</td>\n",
       "      <td>-0.146333</td>\n",
       "      <td>-0.583665</td>\n",
       "      <td>-0.672860</td>\n",
       "      <td>-1.100265</td>\n",
       "    </tr>\n",
       "    <tr>\n",
       "      <th>3</th>\n",
       "      <td>0.851512</td>\n",
       "      <td>1.691721</td>\n",
       "      <td>-0.023155</td>\n",
       "      <td>0.020857</td>\n",
       "      <td>0.810093</td>\n",
       "      <td>-0.032393</td>\n",
       "      <td>-0.146333</td>\n",
       "      <td>-0.583665</td>\n",
       "      <td>0.209691</td>\n",
       "      <td>-1.100265</td>\n",
       "    </tr>\n",
       "    <tr>\n",
       "      <th>4</th>\n",
       "      <td>0.726498</td>\n",
       "      <td>-0.234751</td>\n",
       "      <td>1.482981</td>\n",
       "      <td>-0.227865</td>\n",
       "      <td>-1.234427</td>\n",
       "      <td>-0.032393</td>\n",
       "      <td>-0.146333</td>\n",
       "      <td>-0.583665</td>\n",
       "      <td>0.798058</td>\n",
       "      <td>-0.052707</td>\n",
       "    </tr>\n",
       "  </tbody>\n",
       "</table>\n",
       "</div>"
      ],
      "text/plain": [
       "       city     team1     team2  toss_winner  toss_decision    result  \\\n",
       "0 -1.398745  1.450912 -1.278268    -1.222752       0.810093 -0.032393   \n",
       "1  0.851512  0.006058 -1.529291     0.020857      -1.234427 -0.032393   \n",
       "2  0.851512 -0.475560 -0.023155    -0.476586      -1.234427 -0.032393   \n",
       "3  0.851512  1.691721 -0.023155     0.020857       0.810093 -0.032393   \n",
       "4  0.726498 -0.234751  1.482981    -0.227865      -1.234427 -0.032393   \n",
       "\n",
       "   dl_applied  win_by_runs  win_by_wickets     venue  \n",
       "0   -0.146333    -0.451216       -0.967043 -0.366975  \n",
       "1    6.833740    -0.451216       -0.967043 -1.100265  \n",
       "2   -0.146333    -0.583665       -0.672860 -1.100265  \n",
       "3   -0.146333    -0.583665        0.209691 -1.100265  \n",
       "4   -0.146333    -0.583665        0.798058 -0.052707  "
      ]
     },
     "execution_count": 29,
     "metadata": {},
     "output_type": "execute_result"
    }
   ],
   "source": [
    "#Feature scaling\n",
    "from sklearn.preprocessing import StandardScaler\n",
    "scaler = StandardScaler()\n",
    "X_scaled = scaler.fit_transform(x_train)\n",
    "X_scaled = pd.DataFrame(X_scaled, columns=X.columns)\n",
    "X_scaled.head()"
   ]
  },
  {
   "cell_type": "code",
   "execution_count": 55,
   "metadata": {},
   "outputs": [
    {
     "data": {
      "text/plain": [
       "10"
      ]
     },
     "execution_count": 55,
     "metadata": {},
     "output_type": "execute_result"
    }
   ],
   "source": [
    "len(x_train.columns)"
   ]
  },
  {
   "cell_type": "code",
   "execution_count": 31,
   "metadata": {},
   "outputs": [
    {
     "name": "stdout",
     "output_type": "stream",
     "text": [
      "DT_score : 0.9371069182389937\n"
     ]
    }
   ],
   "source": [
    "#Model using DecisionTreeClassifier\n",
    "DT = DecisionTreeClassifier(criterion= 'entropy', max_depth=9, min_samples_split= 10)\n",
    "DT_fit = DT.fit(x_train, y_train)\n",
    "y_pred_DT = DT_fit.predict(x_test)\n",
    "print('DT_score :', accuracy_score(y_test,y_pred_DT))"
   ]
  },
  {
   "cell_type": "code",
   "execution_count": 32,
   "metadata": {},
   "outputs": [],
   "source": [
    "#DT_fit.predict_proba()"
   ]
  },
  {
   "cell_type": "code",
   "execution_count": 33,
   "metadata": {},
   "outputs": [
    {
     "name": "stdout",
     "output_type": "stream",
     "text": [
      "RF_score : 0.779874213836478\n"
     ]
    }
   ],
   "source": [
    "#Model using RandomForestClassifier\n",
    "RF = RandomForestClassifier()\n",
    "RF_fit = RF.fit(x_train, y_train)\n",
    "y_pred_RF = RF_fit.predict(x_test)\n",
    "print('RF_score :', accuracy_score(y_test,y_pred_RF))"
   ]
  },
  {
   "cell_type": "code",
   "execution_count": 34,
   "metadata": {},
   "outputs": [],
   "source": [
    "param_dict = {\n",
    "    'criterion':['gini','entropy'],\n",
    "    #'max_depth': np.arange(3, 25),\n",
    "    'min_samples_split' : range(10,500,10),\n",
    "    'max_depth': range(1,30,2)\n",
    "}"
   ]
  },
  {
   "cell_type": "code",
   "execution_count": 35,
   "metadata": {},
   "outputs": [],
   "source": [
    "from sklearn.model_selection import GridSearchCV\n",
    "clf = GridSearchCV(DT, param_grid = param_dict, cv = 10, verbose=True, n_jobs=-1)"
   ]
  },
  {
   "cell_type": "code",
   "execution_count": 36,
   "metadata": {},
   "outputs": [],
   "source": [
    "# clf.fit(x_train,y_train)"
   ]
  },
  {
   "cell_type": "code",
   "execution_count": 37,
   "metadata": {},
   "outputs": [],
   "source": [
    "# clf.best_params_"
   ]
  },
  {
   "cell_type": "code",
   "execution_count": 38,
   "metadata": {},
   "outputs": [],
   "source": [
    "import pickle"
   ]
  },
  {
   "cell_type": "code",
   "execution_count": 39,
   "metadata": {},
   "outputs": [],
   "source": [
    "pickle_out = open(\"DT_model.pkl\",\"wb\")\n",
    "pickle.dump(DT_fit, pickle_out)\n",
    "pickle_out.close()"
   ]
  },
  {
   "cell_type": "code",
   "execution_count": 40,
   "metadata": {},
   "outputs": [],
   "source": [
    "model= pickle.load(open('DT_model.pkl','rb'))"
   ]
  },
  {
   "cell_type": "code",
   "execution_count": 41,
   "metadata": {},
   "outputs": [],
   "source": [
    "# pd.DataFrame(model.predict_proba([[  9, 13, 13, 12, 12,  1,  1,  0, 13, 35,  0]]))"
   ]
  },
  {
   "cell_type": "code",
   "execution_count": 42,
   "metadata": {},
   "outputs": [],
   "source": [
    "toss = {\"Field\":1,\"Bat\":0}\n",
    "\n",
    "outcome = {\"Normal\":1,\"Tie\":2, \"No result\":0}\n",
    "\n",
    "dl_method = {'Yes':1, 'No':0}"
   ]
  },
  {
   "cell_type": "code",
   "execution_count": 43,
   "metadata": {},
   "outputs": [],
   "source": [
    "def team():\n",
    "    team_json={} \n",
    "    team_translate={}\n",
    "    for i in range(len(df1.winner.value_counts().index)):\n",
    "        #print(i)\n",
    "        keys=df1.winner.value_counts().index[i]\n",
    "        values=df.winner.value_counts().index[i]\n",
    "        team_json[keys]=int(values)\n",
    "        team_translate[int(values)]=keys\n",
    "    return team_json,team_translate\n",
    "\n",
    "team, team_trans=team()"
   ]
  },
  {
   "cell_type": "code",
   "execution_count": 44,
   "metadata": {},
   "outputs": [],
   "source": [
    "def city():\n",
    "    city_json={} \n",
    "    for i in range(len(df1.city.value_counts().index)):\n",
    "        #print(i)\n",
    "        keys=df1.city.value_counts().index[i]\n",
    "        values=df.city.value_counts().index[i]\n",
    "        city_json[keys]=int(values)\n",
    "    return city_json\n",
    "\n",
    "place=city()"
   ]
  },
  {
   "cell_type": "code",
   "execution_count": 45,
   "metadata": {},
   "outputs": [],
   "source": [
    "def venue():\n",
    "    venue_json={} \n",
    "    for i in range(len(df1.venue.value_counts().index)):\n",
    "        #print(i)\n",
    "        keys=df1.venue.value_counts().index[i]\n",
    "        values=df.venue.value_counts().index[i]\n",
    "        venue_json[keys]=int(values)\n",
    "    return venue_json\n",
    "\n",
    "ground=venue()"
   ]
  },
  {
   "cell_type": "code",
   "execution_count": 46,
   "metadata": {},
   "outputs": [
    {
     "name": "stdout",
     "output_type": "stream",
     "text": [
      "{'Mumbai Indians': 7, 'Chennai Super Kings': 0, 'Kolkata Knight Riders': 6, 'Royal Challengers Bangalore': 12, 'Kings XI Punjab': 4, 'Rajasthan Royals': 9, 'Delhi Daredevils': 2, 'Sunrisers Hyderabad': 13, 'Deccan Chargers': 1, 'Gujarat Lions': 3, 'Pune Warriors': 8, 'Rising Pune Supergiant': 10, 'Kochi Tuskers Kerala': 5, 'Rising Pune Supergiants': 11}\n",
      "\n",
      "\n",
      "{'Mumbai': 21, 'Bangalore': 2, 'Kolkata': 20, 'Delhi': 9, 'Hyderabad': 13, 'Chennai': 7, 'Chandigarh': 6, 'Jaipur': 15, 'Pune': 24, 'Durban': 11, 'Ahmedabad': 1, 'Centurion': 5, 'Visakhapatnam': 29, 'Rajkot': 26, 'Dharamsala': 10, 'Johannesburg': 16, 'Ranchi': 8, 'Cuttack': 4, 'Port Elizabeth': 0, 'Cape Town': 23, 'Abu Dhabi': 27, 'Raipur': 28, 'Sharjah': 25, 'Indore': 19, 'Kochi': 14, 'Kanpur': 17, 'Nagpur': 12, 'Kimberley': 18, 'East London': 22, 'Bloemfontein': 3}\n",
      "\n",
      "\n",
      "{'M Chinnaswamy Stadium': 14, 'Eden Gardens': 7, 'Feroz Shah Kotla': 8, 'Wankhede Stadium': 34, 'Rajiv Gandhi International Stadium, Uppal': 23, 'MA Chidambaram Stadium, Chepauk': 15, 'Punjab Cricket Association Stadium, Mohali': 22, 'Sawai Mansingh Stadium': 26, 'Dr DY Patil Sports Academy': 4, 'Subrata Roy Sahara Stadium': 31, 'Maharashtra Cricket Association Stadium': 16, 'Kingsmead': 13, 'SuperSport Park': 24, 'Sardar Patel Stadium, Motera': 32, 'Dr. Y.S. Rajasekhara Reddy ACA-VDCA Cricket Stadium': 5, 'Punjab Cricket Association IS Bindra Stadium, Mohali': 1, 'Brabourne Stadium': 21, 'Saurashtra Cricket Association Stadium': 25, 'Himachal Pradesh Cricket Association Stadium': 10, 'New Wanderers Stadium': 18, 'Barabati Stadium': 12, 'Sheikh Zayed Stadium': 6, \"St George's Park\": 0, 'JSCA International Stadium Complex': 19, 'Newlands': 29, 'Dubai International Cricket Stadium': 30, 'Sharjah Cricket Stadium': 27, 'Shaheed Veer Narayan Singh International Stadium': 28, 'Nehru Stadium': 11, 'Holkar Cricket Stadium': 17, 'Green Park': 9, 'De Beers Diamond Oval': 33, 'Vidarbha Cricket Association Stadium, Jamtha': 3, 'Buffalo Park': 2, 'OUTsurance Oval': 20}\n",
      "\n",
      "\n",
      "{'Field': 1, 'Bat': 0}\n",
      "\n",
      "\n",
      "{'Normal': 1, 'Tie': 2, 'No result': 0}\n",
      "\n",
      "\n",
      "{7: 'Mumbai Indians', 0: 'Chennai Super Kings', 6: 'Kolkata Knight Riders', 12: 'Royal Challengers Bangalore', 4: 'Kings XI Punjab', 9: 'Rajasthan Royals', 2: 'Delhi Daredevils', 13: 'Sunrisers Hyderabad', 1: 'Deccan Chargers', 3: 'Gujarat Lions', 8: 'Pune Warriors', 10: 'Rising Pune Supergiant', 5: 'Kochi Tuskers Kerala', 11: 'Rising Pune Supergiants'}\n"
     ]
    }
   ],
   "source": [
    "print(team)\n",
    "print('\\n')\n",
    "print(place)\n",
    "print('\\n')\n",
    "print(ground)\n",
    "print('\\n')\n",
    "print(toss)\n",
    "print('\\n')\n",
    "print(outcome)\n",
    "print('\\n')\n",
    "print(team_trans)"
   ]
  },
  {
   "cell_type": "code",
   "execution_count": 47,
   "metadata": {},
   "outputs": [
    {
     "data": {
      "text/plain": [
       "7"
      ]
     },
     "execution_count": 47,
     "metadata": {},
     "output_type": "execute_result"
    }
   ],
   "source": [
    "team['Mumbai Indians']"
   ]
  },
  {
   "cell_type": "code",
   "execution_count": 48,
   "metadata": {},
   "outputs": [],
   "source": [
    "import json"
   ]
  },
  {
   "cell_type": "code",
   "execution_count": 49,
   "metadata": {},
   "outputs": [],
   "source": [
    "json_obj={\"team1\":team,\n",
    "          \"team_trans\":team_trans,\n",
    "         'place1':place,\n",
    "         'ground1':ground,\n",
    "         'toss1':toss,\n",
    "         'outcome1':outcome,\n",
    "          'dl_method':dl_method\n",
    "          }"
   ]
  },
  {
   "cell_type": "code",
   "execution_count": 50,
   "metadata": {},
   "outputs": [
    {
     "data": {
      "text/plain": [
       "{'team1': {'Mumbai Indians': 7,\n",
       "  'Chennai Super Kings': 0,\n",
       "  'Kolkata Knight Riders': 6,\n",
       "  'Royal Challengers Bangalore': 12,\n",
       "  'Kings XI Punjab': 4,\n",
       "  'Rajasthan Royals': 9,\n",
       "  'Delhi Daredevils': 2,\n",
       "  'Sunrisers Hyderabad': 13,\n",
       "  'Deccan Chargers': 1,\n",
       "  'Gujarat Lions': 3,\n",
       "  'Pune Warriors': 8,\n",
       "  'Rising Pune Supergiant': 10,\n",
       "  'Kochi Tuskers Kerala': 5,\n",
       "  'Rising Pune Supergiants': 11},\n",
       " 'team_trans': {7: 'Mumbai Indians',\n",
       "  0: 'Chennai Super Kings',\n",
       "  6: 'Kolkata Knight Riders',\n",
       "  12: 'Royal Challengers Bangalore',\n",
       "  4: 'Kings XI Punjab',\n",
       "  9: 'Rajasthan Royals',\n",
       "  2: 'Delhi Daredevils',\n",
       "  13: 'Sunrisers Hyderabad',\n",
       "  1: 'Deccan Chargers',\n",
       "  3: 'Gujarat Lions',\n",
       "  8: 'Pune Warriors',\n",
       "  10: 'Rising Pune Supergiant',\n",
       "  5: 'Kochi Tuskers Kerala',\n",
       "  11: 'Rising Pune Supergiants'},\n",
       " 'place1': {'Mumbai': 21,\n",
       "  'Bangalore': 2,\n",
       "  'Kolkata': 20,\n",
       "  'Delhi': 9,\n",
       "  'Hyderabad': 13,\n",
       "  'Chennai': 7,\n",
       "  'Chandigarh': 6,\n",
       "  'Jaipur': 15,\n",
       "  'Pune': 24,\n",
       "  'Durban': 11,\n",
       "  'Ahmedabad': 1,\n",
       "  'Centurion': 5,\n",
       "  'Visakhapatnam': 29,\n",
       "  'Rajkot': 26,\n",
       "  'Dharamsala': 10,\n",
       "  'Johannesburg': 16,\n",
       "  'Ranchi': 8,\n",
       "  'Cuttack': 4,\n",
       "  'Port Elizabeth': 0,\n",
       "  'Cape Town': 23,\n",
       "  'Abu Dhabi': 27,\n",
       "  'Raipur': 28,\n",
       "  'Sharjah': 25,\n",
       "  'Indore': 19,\n",
       "  'Kochi': 14,\n",
       "  'Kanpur': 17,\n",
       "  'Nagpur': 12,\n",
       "  'Kimberley': 18,\n",
       "  'East London': 22,\n",
       "  'Bloemfontein': 3},\n",
       " 'ground1': {'M Chinnaswamy Stadium': 14,\n",
       "  'Eden Gardens': 7,\n",
       "  'Feroz Shah Kotla': 8,\n",
       "  'Wankhede Stadium': 34,\n",
       "  'Rajiv Gandhi International Stadium, Uppal': 23,\n",
       "  'MA Chidambaram Stadium, Chepauk': 15,\n",
       "  'Punjab Cricket Association Stadium, Mohali': 22,\n",
       "  'Sawai Mansingh Stadium': 26,\n",
       "  'Dr DY Patil Sports Academy': 4,\n",
       "  'Subrata Roy Sahara Stadium': 31,\n",
       "  'Maharashtra Cricket Association Stadium': 16,\n",
       "  'Kingsmead': 13,\n",
       "  'SuperSport Park': 24,\n",
       "  'Sardar Patel Stadium, Motera': 32,\n",
       "  'Dr. Y.S. Rajasekhara Reddy ACA-VDCA Cricket Stadium': 5,\n",
       "  'Punjab Cricket Association IS Bindra Stadium, Mohali': 1,\n",
       "  'Brabourne Stadium': 21,\n",
       "  'Saurashtra Cricket Association Stadium': 25,\n",
       "  'Himachal Pradesh Cricket Association Stadium': 10,\n",
       "  'New Wanderers Stadium': 18,\n",
       "  'Barabati Stadium': 12,\n",
       "  'Sheikh Zayed Stadium': 6,\n",
       "  \"St George's Park\": 0,\n",
       "  'JSCA International Stadium Complex': 19,\n",
       "  'Newlands': 29,\n",
       "  'Dubai International Cricket Stadium': 30,\n",
       "  'Sharjah Cricket Stadium': 27,\n",
       "  'Shaheed Veer Narayan Singh International Stadium': 28,\n",
       "  'Nehru Stadium': 11,\n",
       "  'Holkar Cricket Stadium': 17,\n",
       "  'Green Park': 9,\n",
       "  'De Beers Diamond Oval': 33,\n",
       "  'Vidarbha Cricket Association Stadium, Jamtha': 3,\n",
       "  'Buffalo Park': 2,\n",
       "  'OUTsurance Oval': 20},\n",
       " 'toss1': {'Field': 1, 'Bat': 0},\n",
       " 'outcome1': {'Normal': 1, 'Tie': 2, 'No result': 0},\n",
       " 'dl_method': {'Yes': 1, 'No': 0}}"
      ]
     },
     "execution_count": 50,
     "metadata": {},
     "output_type": "execute_result"
    }
   ],
   "source": [
    "json_obj"
   ]
  },
  {
   "cell_type": "code",
   "execution_count": 51,
   "metadata": {},
   "outputs": [
    {
     "data": {
      "text/plain": [
       "dict"
      ]
     },
     "execution_count": 51,
     "metadata": {},
     "output_type": "execute_result"
    }
   ],
   "source": [
    "type(json_obj)"
   ]
  },
  {
   "cell_type": "code",
   "execution_count": 52,
   "metadata": {},
   "outputs": [],
   "source": [
    "with open('json_codes.json', 'w') as file:\n",
    "    json.dump(json_obj, file)"
   ]
  },
  {
   "cell_type": "code",
   "execution_count": 53,
   "metadata": {},
   "outputs": [
    {
     "data": {
      "text/plain": [
       "Mumbai Indians                 82\n",
       "Chennai Super Kings            77\n",
       "Kings XI Punjab                77\n",
       "Royal Challengers Bangalore    70\n",
       "Kolkata Knight Riders          68\n",
       "Delhi Daredevils               63\n",
       "Rajasthan Royals               54\n",
       "Sunrisers Hyderabad            46\n",
       "Deccan Chargers                43\n",
       "Pune Warriors                  20\n",
       "Gujarat Lions                  14\n",
       "Rising Pune Supergiant          8\n",
       "Rising Pune Supergiants         7\n",
       "Kochi Tuskers Kerala            7\n",
       "Name: team1, dtype: int64"
      ]
     },
     "execution_count": 53,
     "metadata": {},
     "output_type": "execute_result"
    }
   ],
   "source": [
    "df1.team1.value_counts()"
   ]
  },
  {
   "cell_type": "code",
   "execution_count": null,
   "metadata": {},
   "outputs": [],
   "source": []
  },
  {
   "cell_type": "code",
   "execution_count": null,
   "metadata": {},
   "outputs": [],
   "source": []
  },
  {
   "cell_type": "code",
   "execution_count": null,
   "metadata": {},
   "outputs": [],
   "source": []
  },
  {
   "cell_type": "code",
   "execution_count": null,
   "metadata": {},
   "outputs": [],
   "source": []
  },
  {
   "cell_type": "code",
   "execution_count": null,
   "metadata": {},
   "outputs": [],
   "source": []
  }
 ],
 "metadata": {
  "kernelspec": {
   "display_name": "Python 3",
   "language": "python",
   "name": "python3"
  },
  "language_info": {
   "codemirror_mode": {
    "name": "ipython",
    "version": 3
   },
   "file_extension": ".py",
   "mimetype": "text/x-python",
   "name": "python",
   "nbconvert_exporter": "python",
   "pygments_lexer": "ipython3",
   "version": "3.8.5"
  }
 },
 "nbformat": 4,
 "nbformat_minor": 4
}
